{
 "cells": [
  {
   "cell_type": "markdown",
   "metadata": {},
   "source": [
    "*This is a Jupyter Notebook. To run a gray code cell, click in the cell and either click the play arrow or type shift+enter (shift+return on a Mac).*"
   ]
  },
  {
   "cell_type": "markdown",
   "metadata": {},
   "source": [
    "# <br>Finding Patterns in Strings"
   ]
  },
  {
   "cell_type": "markdown",
   "metadata": {},
   "source": [
    "This is a task that comes up a lot in coding. Some common uses:\n",
    "- see if data is present\n",
    "- extract data from a software output file\n",
    "- extract data from text\n",
    "- remove data (names, pronouns, or other info) from text\n"
   ]
  },
  {
   "cell_type": "markdown",
   "metadata": {},
   "source": [
    "This can be divided into two general questions:\n",
    "1. Is the data there?\n",
    "2. Where is the data? (to remove it or collect it)"
   ]
  },
  {
   "cell_type": "markdown",
   "metadata": {},
   "source": [
    "For matching exact substrings, Python has some built-in functions. For matching more complicated patterns, you will need to use the Python package `re`, which stands for **regular expressions**."
   ]
  },
  {
   "cell_type": "markdown",
   "metadata": {},
   "source": [
    "**Regular expressions** are not unique to Python. They are built from a *regular language*, which is a language of symbols. Each symbol designates either something to search for - for example, a digit or an uppercase letter - or some way to search - for example, \"do not include\" or \"return any number of\" or \"only return if it is at the beginning or end of a word\". These symbols can be combined to search for the exact pattern you are looking for. Sometimes regular expressions are also called **regexes** and working with regular expressions is called **regex**."
   ]
  },
  {
   "cell_type": "markdown",
   "metadata": {},
   "source": [
    "The *regular language* contains hundreds of symbols, and we do not have time to learn all possible searches today. You may be wondering, \"Can I search for (fill in your pattern here)?\" The answer is always yes, but we might not get to it today. For a more thorough tutorial on the `re` package in Python, I recommend the Real Python Regex tutorial: https://realpython.com/regex-python/. Most of RealPython's tutorials are behind a paywall, but this one is available for free. "
   ]
  },
  {
   "cell_type": "markdown",
   "metadata": {},
   "source": [
    "## <br><br>Searching for exact strings using Python's built-in functions"
   ]
  },
  {
   "cell_type": "markdown",
   "metadata": {},
   "source": [
    "#### Is the data there?"
   ]
  },
  {
   "cell_type": "markdown",
   "metadata": {},
   "source": [
    "To see if an exact substring is present, we use the `in` boolean operator:"
   ]
  },
  {
   "cell_type": "code",
   "execution_count": 139,
   "metadata": {},
   "outputs": [],
   "source": [
    "full = \"Morgan Taylor 555-555-1890\""
   ]
  },
  {
   "cell_type": "code",
   "execution_count": 140,
   "metadata": {},
   "outputs": [
    {
     "name": "stdout",
     "output_type": "stream",
     "text": [
      "True\n"
     ]
    }
   ],
   "source": [
    "if \"Taylor\" in full:\n",
    "    print(\"True\")"
   ]
  },
  {
   "cell_type": "code",
   "execution_count": 141,
   "metadata": {},
   "outputs": [
    {
     "name": "stdout",
     "output_type": "stream",
     "text": [
      "True\n"
     ]
    }
   ],
   "source": [
    "if \" 555-\" in full:\n",
    "    print(\"True\")"
   ]
  },
  {
   "cell_type": "code",
   "execution_count": 142,
   "metadata": {},
   "outputs": [
    {
     "data": {
      "text/plain": [
       "True"
      ]
     },
     "execution_count": 142,
     "metadata": {},
     "output_type": "execute_result"
    }
   ],
   "source": [
    "\" 555-\" in full"
   ]
  },
  {
   "cell_type": "markdown",
   "metadata": {},
   "source": [
    "#### <br><br>Where is the data?"
   ]
  },
  {
   "cell_type": "markdown",
   "metadata": {},
   "source": [
    "The method function `find()` returns the index position of the first character in the search string."
   ]
  },
  {
   "cell_type": "code",
   "execution_count": 143,
   "metadata": {},
   "outputs": [],
   "source": [
    "full = \"Morgan Taylor 555-555-1890\""
   ]
  },
  {
   "cell_type": "code",
   "execution_count": 144,
   "metadata": {},
   "outputs": [
    {
     "data": {
      "text/plain": [
       "13"
      ]
     },
     "execution_count": 144,
     "metadata": {},
     "output_type": "execute_result"
    }
   ],
   "source": [
    "full.find(\" 555-\")"
   ]
  },
  {
   "cell_type": "code",
   "execution_count": 145,
   "metadata": {},
   "outputs": [
    {
     "data": {
      "text/plain": [
       "' '"
      ]
     },
     "execution_count": 145,
     "metadata": {},
     "output_type": "execute_result"
    }
   ],
   "source": [
    "full[13]"
   ]
  },
  {
   "cell_type": "code",
   "execution_count": 146,
   "metadata": {},
   "outputs": [
    {
     "data": {
      "text/plain": [
       "' 555-555-1890'"
      ]
     },
     "execution_count": 146,
     "metadata": {},
     "output_type": "execute_result"
    }
   ],
   "source": [
    "full[13:]"
   ]
  },
  {
   "cell_type": "code",
   "execution_count": 147,
   "metadata": {},
   "outputs": [
    {
     "data": {
      "text/plain": [
       "7"
      ]
     },
     "execution_count": 147,
     "metadata": {},
     "output_type": "execute_result"
    }
   ],
   "source": [
    "full.find(\"Taylor\")"
   ]
  },
  {
   "cell_type": "markdown",
   "metadata": {},
   "source": [
    "If we wanted to return the entire substring in the full string (to collect it or remove it) we could do something like this:"
   ]
  },
  {
   "cell_type": "code",
   "execution_count": 26,
   "metadata": {},
   "outputs": [
    {
     "data": {
      "text/plain": [
       "'Taylor'"
      ]
     },
     "execution_count": 26,
     "metadata": {},
     "output_type": "execute_result"
    }
   ],
   "source": [
    "search_term = \"Taylor\"\n",
    "length_term = len(search_term)\n",
    "start = full.find(search_term)\n",
    "end = start + length_term\n",
    "full[start:end]"
   ]
  },
  {
   "cell_type": "markdown",
   "metadata": {},
   "source": [
    "#### <br><br>A note about collecting or removing data from strings"
   ]
  },
  {
   "cell_type": "markdown",
   "metadata": {},
   "source": [
    "Sometimes, you will need to search for one string in order to locate another. This would be if the data you need doesn't follow a strict pattern but some some substring near the data you need does follow a pattern."
   ]
  },
  {
   "cell_type": "markdown",
   "metadata": {},
   "source": [
    "For example, let's say you wanted to extract filenames from a list of text lines. The filenames are all different, with different extensions, but each filename is preceded by the phrase \"Filename: \". "
   ]
  },
  {
   "cell_type": "code",
   "execution_count": 20,
   "metadata": {},
   "outputs": [],
   "source": [
    "data = [\"Date: 11-10-19\\tFilename: 73820.pdf\\tAuthor: User\", \n",
    "        \"Date: Unknown\\tFilename: giantPicture.jpeg\\tAuthor: Unknown\", \n",
    "        \"Date: 12-01-19\\tFilename: gene3820028.txt\\tAuthor: User\", \n",
    "        \"Filename: P38HAK8.EXE\\tAuthor: Admin\"]"
   ]
  },
  {
   "cell_type": "markdown",
   "metadata": {},
   "source": [
    "Using regular expressions, you could search for the pattern of the actual filename - a series of letters or numbers followed by a dot followed by three or four letters. But it would be much easier to search for the consistent string \"Filename: \" and take what is after it. Keep this in mind when searching for patterns in strings: The pattern may be before or after the data you actually desire."
   ]
  },
  {
   "cell_type": "code",
   "execution_count": 22,
   "metadata": {},
   "outputs": [
    {
     "name": "stdout",
     "output_type": "stream",
     "text": [
      "73820.pdf\n",
      "giantPicture.jpeg\n",
      "gene3820028.txt\n",
      "P38HAK8.EXE\n"
     ]
    }
   ],
   "source": [
    "for line in data:\n",
    "    start = line.find(\"Filename: \")\n",
    "    short_line = line[start:].replace(\"Filename: \", \"\")\n",
    "    end = short_line.find(\"\\t\")\n",
    "    filename = short_line[:end]\n",
    "    print(filename)\n",
    "    "
   ]
  },
  {
   "cell_type": "markdown",
   "metadata": {},
   "source": [
    "### <br><br>Exercise 1"
   ]
  },
  {
   "cell_type": "code",
   "execution_count": 148,
   "metadata": {},
   "outputs": [
    {
     "name": "stdout",
     "output_type": "stream",
     "text": [
      "The file provided produced two statistics. Average time spent in the pool was 1.112 hours. Average number of swimmers was 46.0.\n"
     ]
    }
   ],
   "source": [
    "output = \"The file provided produced two statistics. Average time spent in the pool was 1.112 hours. Average number of swimmers was 46.0.\"\n",
    "print(output)"
   ]
  },
  {
   "cell_type": "markdown",
   "metadata": {},
   "source": [
    "Run the line of code above to store the output. Write code using the `find()` function to return the average time spent in the pool. (In this example, you want to return `1.112`). This will take more than one line of code and there are multiple ways to do it."
   ]
  },
  {
   "cell_type": "code",
   "execution_count": 25,
   "metadata": {},
   "outputs": [
    {
     "name": "stdout",
     "output_type": "stream",
     "text": [
      "1.112\n"
     ]
    }
   ],
   "source": [
    "search_string = \"spent in the pool was \"\n",
    "search_length = len(search_string)\n",
    "search_string2 = \" hours.\"\n",
    "start = output.find(search_string) + search_length\n",
    "end = output.find(search_string2)\n",
    "print(output[start:end])"
   ]
  },
  {
   "cell_type": "markdown",
   "metadata": {},
   "source": [
    "## <br><br>The `re` module"
   ]
  },
  {
   "cell_type": "markdown",
   "metadata": {},
   "source": [
    "First, we need to import the module:"
   ]
  },
  {
   "cell_type": "code",
   "execution_count": 27,
   "metadata": {},
   "outputs": [],
   "source": [
    "import re"
   ]
  },
  {
   "cell_type": "markdown",
   "metadata": {},
   "source": [
    "<br><br>We can use the function `re.search()` to find out if a string is present AND the location of the string. `re.search()` is not a method function - i.e. it doesn't go after an object. Instead, it takes two arguments - the expression to find and the string to search in."
   ]
  },
  {
   "cell_type": "code",
   "execution_count": 32,
   "metadata": {},
   "outputs": [
    {
     "data": {
      "text/plain": [
       "<re.Match object; span=(7, 13), match='Taylor'>"
      ]
     },
     "execution_count": 32,
     "metadata": {},
     "output_type": "execute_result"
    }
   ],
   "source": [
    "full = \"Morgan Taylor 555-555-1890\"\n",
    "re.search(\"Taylor\", full)"
   ]
  },
  {
   "cell_type": "markdown",
   "metadata": {},
   "source": [
    "This returns a match generator object. It tells us the start and end positions of the match (**span**) and the term that was matched (**match**). In this case, we asked for an exact match, so our match is the same as the search term."
   ]
  },
  {
   "cell_type": "markdown",
   "metadata": {},
   "source": [
    "If no match was found, nothing would be returned."
   ]
  },
  {
   "cell_type": "code",
   "execution_count": 34,
   "metadata": {},
   "outputs": [],
   "source": [
    "re.search(\"Tylor\", full)"
   ]
  },
  {
   "cell_type": "markdown",
   "metadata": {},
   "source": [
    "<br><br>The `re.search` generator object can also be used as a Boolean:"
   ]
  },
  {
   "cell_type": "code",
   "execution_count": 35,
   "metadata": {},
   "outputs": [
    {
     "name": "stdout",
     "output_type": "stream",
     "text": [
      "A match!\n"
     ]
    }
   ],
   "source": [
    "if re.search(\"Taylor\", full):\n",
    "    print(\"A match!\")\n",
    "else:\n",
    "    print(\"No match.\")"
   ]
  },
  {
   "cell_type": "code",
   "execution_count": 36,
   "metadata": {},
   "outputs": [
    {
     "name": "stdout",
     "output_type": "stream",
     "text": [
      "No match.\n"
     ]
    }
   ],
   "source": [
    "if re.search(\"Tylor\", full):\n",
    "    print(\"A match!\")\n",
    "else:\n",
    "    print(\"No match.\")"
   ]
  },
  {
   "cell_type": "markdown",
   "metadata": {},
   "source": [
    "<br><br>We can return only some information from our search:"
   ]
  },
  {
   "cell_type": "markdown",
   "metadata": {},
   "source": [
    "The span:"
   ]
  },
  {
   "cell_type": "code",
   "execution_count": 37,
   "metadata": {},
   "outputs": [
    {
     "data": {
      "text/plain": [
       "(7, 13)"
      ]
     },
     "execution_count": 37,
     "metadata": {},
     "output_type": "execute_result"
    }
   ],
   "source": [
    "re.search(\"Taylor\", full).span()"
   ]
  },
  {
   "cell_type": "markdown",
   "metadata": {},
   "source": [
    "The start position:"
   ]
  },
  {
   "cell_type": "code",
   "execution_count": 40,
   "metadata": {},
   "outputs": [
    {
     "data": {
      "text/plain": [
       "7"
      ]
     },
     "execution_count": 40,
     "metadata": {},
     "output_type": "execute_result"
    }
   ],
   "source": [
    "re.search(\"Taylor\", full).start()"
   ]
  },
  {
   "cell_type": "markdown",
   "metadata": {},
   "source": [
    "The end position:"
   ]
  },
  {
   "cell_type": "code",
   "execution_count": 41,
   "metadata": {},
   "outputs": [
    {
     "data": {
      "text/plain": [
       "13"
      ]
     },
     "execution_count": 41,
     "metadata": {},
     "output_type": "execute_result"
    }
   ],
   "source": [
    "re.search(\"Taylor\", full).end()"
   ]
  },
  {
   "cell_type": "markdown",
   "metadata": {},
   "source": [
    "The string that was matched:"
   ]
  },
  {
   "cell_type": "code",
   "execution_count": 42,
   "metadata": {},
   "outputs": [
    {
     "data": {
      "text/plain": [
       "'Taylor'"
      ]
     },
     "execution_count": 42,
     "metadata": {},
     "output_type": "execute_result"
    }
   ],
   "source": [
    "re.search(\"Taylor\", full).group()"
   ]
  },
  {
   "cell_type": "markdown",
   "metadata": {},
   "source": [
    "### <br><br>Exercise 2"
   ]
  },
  {
   "cell_type": "code",
   "execution_count": 149,
   "metadata": {},
   "outputs": [
    {
     "name": "stdout",
     "output_type": "stream",
     "text": [
      "The file provided produced two statistics. Average time spent in the pool was 1.112 hours. Average number of swimmers was 46.0.\n"
     ]
    }
   ],
   "source": [
    "output = \"The file provided produced two statistics. Average time spent in the pool was 1.112 hours. Average number of swimmers was 46.0.\"\n",
    "print(output)"
   ]
  },
  {
   "cell_type": "markdown",
   "metadata": {},
   "source": [
    "Now you have learned how to use `re.search().start()` and `re.search().end()` you can more easily complete the same task as in Exercise 1. Write code to return the average number of hours spent in the pool from the string above. In this case, it should return `1.112`."
   ]
  },
  {
   "cell_type": "code",
   "execution_count": 55,
   "metadata": {},
   "outputs": [
    {
     "data": {
      "text/plain": [
       "'1.112'"
      ]
     },
     "execution_count": 55,
     "metadata": {},
     "output_type": "execute_result"
    }
   ],
   "source": [
    "start = re.search(\"spent in the pool was \", output).end()\n",
    "end = re.search(\" hours.\", output).start()\n",
    "output[start: end]"
   ]
  },
  {
   "cell_type": "markdown",
   "metadata": {},
   "source": [
    "### <br><br>Finding multiple occurrences"
   ]
  },
  {
   "cell_type": "markdown",
   "metadata": {},
   "source": [
    "`re.search()` finds the first occurrence of the search term, when searching the full string from left to right. `re.findall()` finds all occurrences in the full string, and `re.finditer()` returns the start and end positions of all occurrences in the full string."
   ]
  },
  {
   "cell_type": "code",
   "execution_count": 43,
   "metadata": {},
   "outputs": [
    {
     "name": "stdout",
     "output_type": "stream",
     "text": [
      "Morgan Taylor 555-555-1890\n"
     ]
    }
   ],
   "source": [
    "print(full)"
   ]
  },
  {
   "cell_type": "code",
   "execution_count": 44,
   "metadata": {},
   "outputs": [
    {
     "data": {
      "text/plain": [
       "<re.Match object; span=(14, 17), match='555'>"
      ]
     },
     "execution_count": 44,
     "metadata": {},
     "output_type": "execute_result"
    }
   ],
   "source": [
    "re.search(\"555\", full)"
   ]
  },
  {
   "cell_type": "code",
   "execution_count": 45,
   "metadata": {},
   "outputs": [
    {
     "data": {
      "text/plain": [
       "['555', '555']"
      ]
     },
     "execution_count": 45,
     "metadata": {},
     "output_type": "execute_result"
    }
   ],
   "source": [
    "re.findall(\"555\", full)"
   ]
  },
  {
   "cell_type": "code",
   "execution_count": 47,
   "metadata": {},
   "outputs": [
    {
     "data": {
      "text/plain": [
       "<callable_iterator at 0x11304e5f8>"
      ]
     },
     "execution_count": 47,
     "metadata": {},
     "output_type": "execute_result"
    }
   ],
   "source": [
    "re.finditer(\"555\", full)"
   ]
  },
  {
   "cell_type": "markdown",
   "metadata": {},
   "source": [
    "`re.finditer()` returns a generator object that you can loop through to reveal the generator object of each match:"
   ]
  },
  {
   "cell_type": "code",
   "execution_count": 48,
   "metadata": {},
   "outputs": [
    {
     "name": "stdout",
     "output_type": "stream",
     "text": [
      "<re.Match object; span=(14, 17), match='555'>\n",
      "<re.Match object; span=(18, 21), match='555'>\n"
     ]
    }
   ],
   "source": [
    "matches = re.finditer(\"555\", full)\n",
    "for m in matches:\n",
    "    print(m)"
   ]
  },
  {
   "cell_type": "code",
   "execution_count": 50,
   "metadata": {},
   "outputs": [
    {
     "name": "stdout",
     "output_type": "stream",
     "text": [
      "(14, 17)\n",
      "14\n",
      "17\n",
      "(18, 21)\n",
      "18\n",
      "21\n"
     ]
    }
   ],
   "source": [
    "for m in re.finditer(\"555\", full):\n",
    "    print(m.span())\n",
    "    print(m.start())\n",
    "    print(m.end())"
   ]
  },
  {
   "cell_type": "markdown",
   "metadata": {},
   "source": [
    "### <br><br>Exercise 3"
   ]
  },
  {
   "cell_type": "code",
   "execution_count": 51,
   "metadata": {},
   "outputs": [],
   "source": [
    "full_text = \"Alice was beginning to get very tired of sitting by her sister on the bank, and of having nothing to do: once or twice she had peeped into the book her sister was reading, but it had no pictures or conversations in it, `and what is the use of a book,' thought Alice `without pictures or conversation?' So she was considering in her own mind (as well as she could, for the hot day made her feel very sleepy and stupid), whether the pleasure of making a daisy-chain would be worth the trouble of getting up and picking the daisies, when suddenly a White Rabbit with pink eyes ran close by her. There was nothing so very remarkable in that; nor did Alice think it so very much out of the way to hear the Rabbit say to itself, `Oh dear! Oh dear! I shall be late!' (when she thought it over afterwards, it occurred to her that she ought to have wondered at this, but at the time it all seemed quite natural); but when the Rabbit actually took a watch out of its waistcoat-pocket, and looked at it, and then hurried on, Alice started to her feet, for it flashed across her mind that she had never before seen a rabbit with either a waistcoat-pocket, or a watch to take out of it, and burning with curiosity, she ran across the field after it, and fortunately was just in time to see it pop down a large rabbit-hole under the hedge.\""
   ]
  },
  {
   "cell_type": "markdown",
   "metadata": {},
   "source": [
    "Run the cell above. Write code to print the start position for every occurence of \"Alice\" in `full_text`."
   ]
  },
  {
   "cell_type": "code",
   "execution_count": 56,
   "metadata": {},
   "outputs": [
    {
     "name": "stdout",
     "output_type": "stream",
     "text": [
      "0\n",
      "260\n",
      "646\n",
      "1014\n"
     ]
    }
   ],
   "source": [
    "for i in re.finditer(\"Alice\", full_text):\n",
    "    print(i.start())"
   ]
  },
  {
   "cell_type": "markdown",
   "metadata": {},
   "source": [
    "### <br><br>Searching for inexact strings using regular expressions"
   ]
  },
  {
   "cell_type": "markdown",
   "metadata": {},
   "source": [
    "Functions that are part of the `re` module can search for regular expressions. Remember, this is like a special language designed for searching for patterns."
   ]
  },
  {
   "cell_type": "markdown",
   "metadata": {},
   "source": [
    "Most characters (such as letters and numbers) will match to themsleves, like how we searched for \"Alice\" in the exercise above."
   ]
  },
  {
   "cell_type": "markdown",
   "metadata": {},
   "source": [
    "**Metacharacters** are special characters that mean something in a regular expression. <br>These are `. ^ $ * + ? { } [ ] \\ | ( )`"
   ]
  },
  {
   "cell_type": "markdown",
   "metadata": {},
   "source": [
    "#### <br><br>The `[]` metacharacters"
   ]
  },
  {
   "cell_type": "markdown",
   "metadata": {},
   "source": [
    "**Character classes** are groups of characters that you can define yourself by enclosing them inside the metacharacters `[` and `]`. If you create a character class, `re` will match to any of the characters inside the class - kind of like an `or`:"
   ]
  },
  {
   "cell_type": "code",
   "execution_count": 60,
   "metadata": {},
   "outputs": [],
   "source": [
    "phone_numbers = \"800-555-2928 247-555-2827 860-555-2029 888-555-7262 860-555-2876\""
   ]
  },
  {
   "cell_type": "code",
   "execution_count": 61,
   "metadata": {},
   "outputs": [
    {
     "data": {
      "text/plain": [
       "['8',\n",
       " '0',\n",
       " '0',\n",
       " '8',\n",
       " '8',\n",
       " '8',\n",
       " '6',\n",
       " '0',\n",
       " '0',\n",
       " '8',\n",
       " '8',\n",
       " '8',\n",
       " '6',\n",
       " '8',\n",
       " '6',\n",
       " '0',\n",
       " '8',\n",
       " '6']"
      ]
     },
     "execution_count": 61,
     "metadata": {},
     "output_type": "execute_result"
    }
   ],
   "source": [
    "re.findall(\"[860]\", phone_numbers)"
   ]
  },
  {
   "cell_type": "markdown",
   "metadata": {},
   "source": [
    "`re.findall()` returned all occurences of 8, 6, or 0 in the string."
   ]
  },
  {
   "cell_type": "markdown",
   "metadata": {},
   "source": [
    "<br><br>We can also pass multiple character classes in a row to return a pattern. For example, 800, 888, and 860 are all toll-free extensions. Let's say we want to find all of the toll free numbers in the string. We can search for three digits followed by a \"-\". The first digit should be an 8. The second can be a 0, 6, or 8. The third can be a 0 or 8."
   ]
  },
  {
   "cell_type": "code",
   "execution_count": 63,
   "metadata": {},
   "outputs": [
    {
     "data": {
      "text/plain": [
       "['800-', '860-', '888-', '860-']"
      ]
     },
     "execution_count": 63,
     "metadata": {},
     "output_type": "execute_result"
    }
   ],
   "source": [
    "re.findall(\"8[086][08]-\", phone_numbers)"
   ]
  },
  {
   "cell_type": "code",
   "execution_count": 64,
   "metadata": {},
   "outputs": [
    {
     "name": "stdout",
     "output_type": "stream",
     "text": [
      "0\n",
      "26\n",
      "39\n",
      "52\n"
     ]
    }
   ],
   "source": [
    "for m in re.finditer(\"8[086][08]-\", phone_numbers):\n",
    "    print(m.start())"
   ]
  },
  {
   "cell_type": "markdown",
   "metadata": {},
   "source": [
    "### <br><br>Exercise 4"
   ]
  },
  {
   "cell_type": "code",
   "execution_count": 65,
   "metadata": {},
   "outputs": [
    {
     "name": "stdout",
     "output_type": "stream",
     "text": [
      "Alice was beginning to get very tired of sitting by her sister on the bank, and of having nothing to do: once or twice she had peeped into the book her sister was reading, but it had no pictures or conversations in it, `and what is the use of a book,' thought Alice `without pictures or conversation?' So she was considering in her own mind (as well as she could, for the hot day made her feel very sleepy and stupid), whether the pleasure of making a daisy-chain would be worth the trouble of getting up and picking the daisies, when suddenly a White Rabbit with pink eyes ran close by her. There was nothing so very remarkable in that; nor did Alice think it so very much out of the way to hear the Rabbit say to itself, `Oh dear! Oh dear! I shall be late!' (when she thought it over afterwards, it occurred to her that she ought to have wondered at this, but at the time it all seemed quite natural); but when the Rabbit actually took a watch out of its waistcoat-pocket, and looked at it, and then hurried on, Alice started to her feet, for it flashed across her mind that she had never before seen a rabbit with either a waistcoat-pocket, or a watch to take out of it, and burning with curiosity, she ran across the field after it, and fortunately was just in time to see it pop down a large rabbit-hole under the hedge.\n"
     ]
    }
   ],
   "source": [
    "print(full_text)"
   ]
  },
  {
   "cell_type": "markdown",
   "metadata": {},
   "source": [
    "Run the cell above to print the text from Alice in Wonderland. Write code to find every occurrence of the word \"rabbit\" in `full_text`. You also want to include any occurrence where \"rabbit\" is capitalized, like \"Rabbit\"."
   ]
  },
  {
   "cell_type": "code",
   "execution_count": 66,
   "metadata": {},
   "outputs": [
    {
     "data": {
      "text/plain": [
       "['Rabbit', 'Rabbit', 'Rabbit', 'rabbit', 'rabbit']"
      ]
     },
     "execution_count": 66,
     "metadata": {},
     "output_type": "execute_result"
    }
   ],
   "source": [
    "re.findall(\"[Rr]abbit\", full_text)"
   ]
  },
  {
   "cell_type": "markdown",
   "metadata": {},
   "source": [
    "#### <br><br>The `\\` metacharacter"
   ]
  },
  {
   "cell_type": "markdown",
   "metadata": {},
   "source": [
    "**Special sequences** are predefined patterns that start with the metacharacter `\\` followed by a letter."
   ]
  },
  {
   "cell_type": "markdown",
   "metadata": {},
   "source": [
    "`\\d` will return any digit (0-9). `\\D` will return any character that is not a digit."
   ]
  },
  {
   "cell_type": "code",
   "execution_count": 69,
   "metadata": {},
   "outputs": [
    {
     "name": "stdout",
     "output_type": "stream",
     "text": [
      "Ross McFluff: 834.345.1254 155 Elm Street\n",
      "Ronald Heathmore: 892.345.3428 436 Finley Avenue\n",
      "Frank Burger: 925.541.7625 662 South Dogwood Way\n",
      "Heather Albrecht: 548.326.4584 919 Park Place\n"
     ]
    }
   ],
   "source": [
    "address_book = \"Ross McFluff: 834.345.1254 155 Elm Street\\nRonald Heathmore: 892.345.3428 436 Finley Avenue\\nFrank Burger: 925.541.7625 662 South Dogwood Way\\nHeather Albrecht: 548.326.4584 919 Park Place\"\n",
    "print(address_book)"
   ]
  },
  {
   "cell_type": "markdown",
   "metadata": {},
   "source": [
    "To find all the phone numbers, we could write this:"
   ]
  },
  {
   "cell_type": "code",
   "execution_count": 71,
   "metadata": {},
   "outputs": [
    {
     "data": {
      "text/plain": [
       "['834.345.1254', '892.345.3428', '925.541.7625', '548.326.4584']"
      ]
     },
     "execution_count": 71,
     "metadata": {},
     "output_type": "execute_result"
    }
   ],
   "source": [
    "re.findall(\"\\d\\d\\d.\\d\\d\\d.\\d\\d\\d\\d\", address_book)"
   ]
  },
  {
   "cell_type": "markdown",
   "metadata": {},
   "source": [
    "<br>`\\s` is another special sequence that will return a whitespace. `\\S` will return a character that is not a whitespace. Whitespaces include a space, a tab, or a new line."
   ]
  },
  {
   "cell_type": "markdown",
   "metadata": {},
   "source": [
    "Let's change the address book a bit:"
   ]
  },
  {
   "cell_type": "code",
   "execution_count": 72,
   "metadata": {},
   "outputs": [
    {
     "name": "stdout",
     "output_type": "stream",
     "text": [
      "Ross McFluff: 834.345.1254 155 Elm Street\n",
      "Ronald Heathmore: 892-345-3428 436 Finley Avenue\n",
      "Frank Burger: (925)541-7625 662 South Dogwood Way\n",
      "Heather Albrecht: 548.326.4584 919 Park Place\n"
     ]
    }
   ],
   "source": [
    "address_book = \"Ross McFluff: 834.345.1254 155 Elm Street\\nRonald Heathmore: 892-345-3428 436 Finley Avenue\\nFrank Burger: (925)541-7625 662 South Dogwood Way\\nHeather Albrecht: 548.326.4584 919 Park Place\"\n",
    "print(address_book)"
   ]
  },
  {
   "cell_type": "markdown",
   "metadata": {},
   "source": [
    "Now the phone numbers follow a less predictible pattern. We can use `\\S` to still write code to return the phone numbers:"
   ]
  },
  {
   "cell_type": "code",
   "execution_count": 73,
   "metadata": {},
   "outputs": [
    {
     "data": {
      "text/plain": [
       "['834.345.1254', '892-345-3428', '925)541-7625', '548.326.4584']"
      ]
     },
     "execution_count": 73,
     "metadata": {},
     "output_type": "execute_result"
    }
   ],
   "source": [
    "re.findall(\"\\d\\d\\d\\S\\d\\d\\d\\S\\d\\d\\d\\d\", address_book)"
   ]
  },
  {
   "cell_type": "markdown",
   "metadata": {},
   "source": [
    "### <br><br>Exercise 5"
   ]
  },
  {
   "cell_type": "code",
   "execution_count": 81,
   "metadata": {},
   "outputs": [
    {
     "name": "stdout",
     "output_type": "stream",
     "text": [
      "8372083726288837262622793747576548774630847399485020928374756145803098474928225677409908799902967767684738929098972233441 Herman Johnson Daniel Weber Althea Jannon Bridget Booster-Braxton Michael Lee John Forsythe Roberta Jackson Millie Samuels Lucas Dolner Edgar Boris Bridges Rich Weinhart Lisa Bressley\n"
     ]
    }
   ],
   "source": [
    "personal_data = \"8372083726288837262622793747576548774630847399485020928374756145803098474928225677409908799902967767684738929098972233441 Herman Johnson Daniel Weber Althea Jannon Bridget Booster-Braxton Michael Lee John Forsythe Roberta Jackson Millie Samuels Lucas Dolner Edgar Boris Bridges Rich Weinhart Lisa Bressley\"\n",
    "print(personal_data)"
   ]
  },
  {
   "cell_type": "markdown",
   "metadata": {},
   "source": [
    "Run the line of code above to save the text string `personal_data`. We want to know where the numbers stop and the names begin. Write code to find the position of the first character that is not a number or whitespace."
   ]
  },
  {
   "cell_type": "code",
   "execution_count": 84,
   "metadata": {},
   "outputs": [
    {
     "data": {
      "text/plain": [
       "121"
      ]
     },
     "execution_count": 84,
     "metadata": {},
     "output_type": "execute_result"
    }
   ],
   "source": [
    "re.search(\"\\D\", personal_data).start()"
   ]
  },
  {
   "cell_type": "markdown",
   "metadata": {},
   "source": [
    "#### <br><br>The `*` and `+` metacharacters"
   ]
  },
  {
   "cell_type": "markdown",
   "metadata": {},
   "source": [
    "These metacharacters let you search for repeated characters or phrases in a string. `*` will return 0 to many repeats, while `+` will return 1 to many."
   ]
  },
  {
   "cell_type": "markdown",
   "metadata": {},
   "source": [
    "Let's look for a pattern in this gene sequence:"
   ]
  },
  {
   "cell_type": "code",
   "execution_count": 103,
   "metadata": {},
   "outputs": [],
   "source": [
    "gene = \"ATGATATGCTCCAGATATTTTTTGAGCCCGATTAGCCATCATATTTGAAGCTAGCGGTGTCATAGCGATTCCAAAC\""
   ]
  },
  {
   "cell_type": "markdown",
   "metadata": {},
   "source": [
    "We'll look for the pattern ATA plus any repeating Ts that follow. When we use the `*` it will also return ATA without any Ts following, but using `+` means there has to be at least one T following:"
   ]
  },
  {
   "cell_type": "code",
   "execution_count": 133,
   "metadata": {},
   "outputs": [
    {
     "data": {
      "text/plain": [
       "['ATAT', 'ATATTTTTT', 'ATATTT', 'ATA']"
      ]
     },
     "execution_count": 133,
     "metadata": {},
     "output_type": "execute_result"
    }
   ],
   "source": [
    "re.findall(\"ATAT*\", gene)"
   ]
  },
  {
   "cell_type": "code",
   "execution_count": 130,
   "metadata": {},
   "outputs": [
    {
     "data": {
      "text/plain": [
       "['ATAT', 'ATATTTTTT', 'ATATTT']"
      ]
     },
     "execution_count": 130,
     "metadata": {},
     "output_type": "execute_result"
    }
   ],
   "source": [
    "re.findall(\"ATAT+\", gene)"
   ]
  },
  {
   "cell_type": "markdown",
   "metadata": {},
   "source": [
    "#### <br><br>How to search for metacharacters"
   ]
  },
  {
   "cell_type": "markdown",
   "metadata": {},
   "source": [
    "Sometimes you actually want to search for `*` or `[` or another metacharacter in the string. "
   ]
  },
  {
   "cell_type": "markdown",
   "metadata": {},
   "source": [
    "You can search for these by preceding the character with a backslash `\\`."
   ]
  },
  {
   "cell_type": "code",
   "execution_count": 134,
   "metadata": {},
   "outputs": [],
   "source": [
    "s = \"95* *Does not include potatoes.\""
   ]
  },
  {
   "cell_type": "code",
   "execution_count": 136,
   "metadata": {},
   "outputs": [
    {
     "data": {
      "text/plain": [
       "['*', '*']"
      ]
     },
     "execution_count": 136,
     "metadata": {},
     "output_type": "execute_result"
    }
   ],
   "source": [
    "re.findall(\"\\*\", s)"
   ]
  },
  {
   "cell_type": "markdown",
   "metadata": {},
   "source": [
    "### <br><br>Exercise 6"
   ]
  },
  {
   "cell_type": "code",
   "execution_count": 137,
   "metadata": {},
   "outputs": [],
   "source": [
    "my_string = \"There are twenty five [25] mice in the maze.\""
   ]
  },
  {
   "cell_type": "markdown",
   "metadata": {},
   "source": [
    "Write code that will find the string \"[25]\" including the brackets."
   ]
  },
  {
   "cell_type": "code",
   "execution_count": 138,
   "metadata": {},
   "outputs": [
    {
     "data": {
      "text/plain": [
       "<re.Match object; span=(22, 26), match='[25]'>"
      ]
     },
     "execution_count": 138,
     "metadata": {},
     "output_type": "execute_result"
    }
   ],
   "source": [
    "re.search(\"\\[25\\]\", my_string)"
   ]
  },
  {
   "cell_type": "markdown",
   "metadata": {},
   "source": [
    "### <br><br>Bonus Exercise"
   ]
  },
  {
   "cell_type": "markdown",
   "metadata": {},
   "source": [
    "Here's a chance to practice parsing a difficult file. I've included two practice files of the same type. These are control files that get imported to the software program PAML (Phylogenetic Analysis for Maximum Likelihood). You don't need to know anything about the software program to do this exercise."
   ]
  },
  {
   "cell_type": "markdown",
   "metadata": {},
   "source": [
    "#### IF YOU ARE USING GOOGLE COLAB ONLY - you need to run the next line of code to upload the files. DO NOT RUN THIS LINE IF YOU ARE NOT USING GOOGLE COLAB:"
   ]
  },
  {
   "cell_type": "code",
   "execution_count": null,
   "metadata": {},
   "outputs": [],
   "source": [
    "!wget https://raw.githubusercontent.com/aGitHasNoName/patterns/master/practice.txt\n",
    "!wget https://raw.githubusercontent.com/aGitHasNoName/patterns/master/practice2.txt"
   ]
  },
  {
   "cell_type": "markdown",
   "metadata": {},
   "source": [
    "<br><br>To get you started, I have written code to load each of the files as a list of lines. You can run the next two cells and look at the files. You will see a line that includes \"runmode = \" followed by a number. After the number, there is a key to tell you what the number means. This key is spread out across two lines. These are the lines that you will be working with. Notice how they are different between the two files."
   ]
  },
  {
   "cell_type": "code",
   "execution_count": 156,
   "metadata": {},
   "outputs": [
    {
     "name": "stdout",
     "output_type": "stream",
     "text": [
      "      seqfile = uniquegenename.pr.phy * sequence data filename\n",
      "\n",
      "     treefile = speciesTree.tre    * tree structure file name\n",
      "\n",
      "\n",
      "\n",
      "      outfile = uniquegenename.paml           * main result file name\n",
      "\n",
      "        noisy = 9  * 0,1,2,3,9: how much rubbish on the screen\n",
      "\n",
      "      verbose = 0  * 0: concise; 1: detailed, 2: too much\n",
      "\n",
      "      runmode = 0  * 0: user tree;  1: semi-automatic;  2: automatic\n",
      "\n",
      "                   * 3: StepwiseAddition; (4,5):PerturbationNNI; -2: pairwise\n",
      "\n",
      "\n",
      "\n",
      "      seqtype = 2  * 1:codons; 2:AAs; 3:codons-->AAs\n",
      "\n",
      "   aaRatefile = /data/paml4.8/dat/wag.dat * only used for aa seqs with model=empirical(_F)\n",
      "\n",
      "                   * dayhoff.dat, jones.dat, wag.dat, mtmam.dat, or your own\n",
      "\n",
      "\n",
      "\n",
      "        model = 3  * 0:poisson, 1:proportional, 2:Empirical, 3:Empirical+F\n",
      "\n",
      "                   * 6:FromCodon, 7:AAClasses, 8:REVaa_0, 9:REVaa(nr=189)\n",
      "\n",
      "        Mgene = 1  * aaml: 0:rates, 1:separate; \n",
      "\n",
      "\n",
      "\n",
      "    fix_alpha = 1  * 0: estimate gamma shape parameter; 1: fix it at alpha\n",
      "\n",
      "        alpha = 0. * initial or fixed alpha, 0:infinity (constant rate)\n",
      "\n",
      "       Malpha = 0  * different alphas for genes\n",
      "\n",
      "        ncatG = 2  * # of categories in dG of NSsites models\n",
      "\n",
      "\n",
      "\n",
      "        clock = 0   * 0:no clock, 1:global clock; 2:local clock; 3:TipDate\n",
      "\n",
      "        getSE = 0  * 0: don't want them, 1: want S.E.s of estimates\n",
      "\n",
      " RateAncestor = 1 * (0,1,2): rates (alpha>0) or ancestral states (1 or 2)\n",
      "\n",
      "\n",
      "\n",
      "* Genetic codes: 0:universal, 1:mammalian mt., 2:yeast mt., 3:mold mt.,\n",
      "\n",
      "* 4: invertebrate mt., 5: ciliate nuclear, 6: echinoderm mt., \n",
      "\n",
      "* 7: euplotid mt., 8: alternative yeast nu. 9: ascidian mt., \n",
      "\n",
      "* 10: blepharisma nu.\n",
      "\n",
      "* These codes correspond to transl_table 1 to 11 of GENEBANK.\n",
      "\n",
      "\n",
      "\n",
      "   Small_Diff = .5e-6\n",
      "\n",
      "     cleandata = 0  * remove sites with ambiguity data (1:yes, 0:no)?\n",
      "\n",
      "*        ndata = 2\n",
      "\n",
      "        method = 0   * 0: simultaneous; 1: one branch at a time\n"
     ]
    }
   ],
   "source": [
    "with open(\"practice.txt\", \"r\") as f:\n",
    "    file1_list = f.readlines()\n",
    "for line in file1_list:\n",
    "    print(line)"
   ]
  },
  {
   "cell_type": "code",
   "execution_count": 157,
   "metadata": {},
   "outputs": [
    {
     "name": "stdout",
     "output_type": "stream",
     "text": [
      "      seqfile = uniquegenename.pr.phy * sequence data filename\n",
      "\n",
      "     treefile = speciesTree.tre    * tree structure file name\n",
      "\n",
      "\n",
      "\n",
      "      outfile = uniquegenename.paml           * main result file name\n",
      "\n",
      "        noisy = 9  * 0,1,2,3,9: how much rubbish on the screen\n",
      "\n",
      "      verbose = 0  * 0: concise; 1: detailed, 2: too much\n",
      "\n",
      "      runmode = 4  * 0: user tree;  1: semi-automatic;  2: automatic\n",
      "\n",
      "                   * 3: StepwiseAddition; (4,5):PerturbationNNI; -2: pairwise\n",
      "\n",
      "\n",
      "\n",
      "      seqtype = 2  * 1:codons; 2:AAs; 3:codons-->AAs\n",
      "\n",
      "   aaRatefile = /data/paml4.8/dat/wag.dat * only used for aa seqs with model=empirical(_F)\n",
      "\n",
      "                   * dayhoff.dat, jones.dat, wag.dat, mtmam.dat, or your own\n",
      "\n",
      "\n",
      "\n",
      "        model = 3  * 0:poisson, 1:proportional, 2:Empirical, 3:Empirical+F\n",
      "\n",
      "                   * 6:FromCodon, 7:AAClasses, 8:REVaa_0, 9:REVaa(nr=189)\n",
      "\n",
      "        Mgene = 1  * aaml: 0:rates, 1:separate; \n",
      "\n",
      "\n",
      "\n",
      "    fix_alpha = 1  * 0: estimate gamma shape parameter; 1: fix it at alpha\n",
      "\n",
      "        alpha = 0. * initial or fixed alpha, 0:infinity (constant rate)\n",
      "\n",
      "       Malpha = 0  * different alphas for genes\n",
      "\n",
      "        ncatG = 2  * # of categories in dG of NSsites models\n",
      "\n",
      "\n",
      "\n",
      "        clock = 0   * 0:no clock, 1:global clock; 2:local clock; 3:TipDate\n",
      "\n",
      "        getSE = 0  * 0: don't want them, 1: want S.E.s of estimates\n",
      "\n",
      " RateAncestor = 1 * (0,1,2): rates (alpha>0) or ancestral states (1 or 2)\n",
      "\n",
      "\n",
      "\n",
      "* Genetic codes: 0:universal, 1:mammalian mt., 2:yeast mt., 3:mold mt.,\n",
      "\n",
      "* 4: invertebrate mt., 5: ciliate nuclear, 6: echinoderm mt., \n",
      "\n",
      "* 7: euplotid mt., 8: alternative yeast nu. 9: ascidian mt., \n",
      "\n",
      "* 10: blepharisma nu.\n",
      "\n",
      "* These codes correspond to transl_table 1 to 11 of GENEBANK.\n",
      "\n",
      "\n",
      "\n",
      "   Small_Diff = .5e-6\n",
      "\n",
      "     cleandata = 0  * remove sites with ambiguity data (1:yes, 0:no)?\n",
      "\n",
      "*        ndata = 2\n",
      "\n",
      "        method = 0   * 0: simultaneous; 1: one branch at a time\n"
     ]
    }
   ],
   "source": [
    "with open(\"practice2.txt\", \"r\") as f:\n",
    "    file2_list = f.readlines()\n",
    "for line in file2_list:\n",
    "    print(line)"
   ]
  },
  {
   "cell_type": "markdown",
   "metadata": {},
   "source": [
    "<br><br>Since you will only need the runmode lines, I've written code to extract only those lines from the two files:"
   ]
  },
  {
   "cell_type": "code",
   "execution_count": 160,
   "metadata": {},
   "outputs": [],
   "source": [
    "for line in file1_list:\n",
    "    if \"runmode\" in line:\n",
    "        file1_line1 = line\n",
    "        place = file1_list.index(line)\n",
    "        file1_line2 = file1_list[place + 1]\n",
    "for line in file2_list:\n",
    "    if \"runmode\" in line:\n",
    "        file2_line1 = line\n",
    "        place = file2_list.index(line)\n",
    "        file2_line2 = file2_list[place + 1]"
   ]
  },
  {
   "cell_type": "code",
   "execution_count": 161,
   "metadata": {},
   "outputs": [
    {
     "name": "stdout",
     "output_type": "stream",
     "text": [
      "File 1:\n",
      "      runmode = 0  * 0: user tree;  1: semi-automatic;  2: automatic\n",
      "\n",
      "                   * 3: StepwiseAddition; (4,5):PerturbationNNI; -2: pairwise\n",
      "\n",
      "File 2:\n",
      "      runmode = 4  * 0: user tree;  1: semi-automatic;  2: automatic\n",
      "\n",
      "                   * 3: StepwiseAddition; (4,5):PerturbationNNI; -2: pairwise\n",
      "\n"
     ]
    }
   ],
   "source": [
    "print(\"File 1:\")\n",
    "print(file1_line1)\n",
    "print(file1_line2)\n",
    "print(\"File 2:\")\n",
    "print(file2_line1)\n",
    "print(file2_line2)"
   ]
  },
  {
   "cell_type": "markdown",
   "metadata": {},
   "source": [
    "<br><br>Your job is to write code to parse the lines from both of these files. You will need to first return the runmode that is being used (\"0\" for file 1 and \"4\" for file 2) and then return the appropriate description of that runmode (\"user tree\" for file 1 and \"PerturbationNNI\" for file 2). In a real situation, you might be writing code to parse hundreds or thousands of these files, but let's just practice on two."
   ]
  },
  {
   "cell_type": "markdown",
   "metadata": {},
   "source": [
    "Your output should look like:\n",
    "<br>File 1 - runmode 0: user tree\n",
    "<br>File 2 - runmode 4: PerturbationNNI"
   ]
  },
  {
   "cell_type": "markdown",
   "metadata": {},
   "source": [
    "You can use any Python skills you know, including regular expressions."
   ]
  },
  {
   "cell_type": "markdown",
   "metadata": {},
   "source": [
    "Check the answer key (patterns-Answers.ipynb) for one possible solution."
   ]
  },
  {
   "cell_type": "code",
   "execution_count": 180,
   "metadata": {},
   "outputs": [],
   "source": [
    "#I turned the lines into a dictionary, with the file name as the key and a list of lines as the value\n",
    "files = {\"File 1\": [file1_line1, file1_line2], \"File 2\": [file2_line1, file2_line2]}"
   ]
  },
  {
   "cell_type": "code",
   "execution_count": 187,
   "metadata": {},
   "outputs": [
    {
     "name": "stdout",
     "output_type": "stream",
     "text": [
      "File 1 - runmode 0: user tree\n",
      "File 2 - runmode 4: PerturbationNNI\n"
     ]
    }
   ],
   "source": [
    "#I loop through the dictionary\n",
    "for k, v in files.items():\n",
    "    #I split the first line on the = and take the second character of the second half\n",
    "    runmode = v[0].split(\"=\")[1][1]\n",
    "    #The description could be in either line, so first I loop through the lines\n",
    "    for line in v:\n",
    "        #I split each line on the star and see if the runmode is in the second half of the line\n",
    "        #I had to split it because of course the runmode is in the first half of the first line - that's where I got it\n",
    "        if runmode in line.split(\"*\")[1]:\n",
    "            answer_line = line.split(\"*\")[1]\n",
    "    #Now I know what line it is in\n",
    "    #I find the start position of the number in the line\n",
    "    runmode_position = re.search(runmode, answer_line).start()\n",
    "    #I shorten the line to start with the runmode number\n",
    "    short_line = answer_line[runmode_position:]\n",
    "    #I find the positions of the : which comes before the description and the ; which comes after\n",
    "    start = re.search(\":\", short_line).start()\n",
    "    end = re.search(\";\", short_line).start()\n",
    "    #I shorten the line even more to only include the description, plus I remove any leading whitespaces\n",
    "    answer = short_line[start + 1: end].lstrip(\" \")\n",
    "    print(f\"{k} - runmode {runmode}: {answer}\")"
   ]
  },
  {
   "cell_type": "code",
   "execution_count": null,
   "metadata": {},
   "outputs": [],
   "source": []
  },
  {
   "cell_type": "code",
   "execution_count": null,
   "metadata": {},
   "outputs": [],
   "source": []
  },
  {
   "cell_type": "code",
   "execution_count": null,
   "metadata": {},
   "outputs": [],
   "source": []
  },
  {
   "cell_type": "code",
   "execution_count": null,
   "metadata": {},
   "outputs": [],
   "source": []
  }
 ],
 "metadata": {
  "kernelspec": {
   "display_name": "Python 3",
   "language": "python",
   "name": "python3"
  },
  "language_info": {
   "codemirror_mode": {
    "name": "ipython",
    "version": 3
   },
   "file_extension": ".py",
   "mimetype": "text/x-python",
   "name": "python",
   "nbconvert_exporter": "python",
   "pygments_lexer": "ipython3",
   "version": "3.7.3"
  }
 },
 "nbformat": 4,
 "nbformat_minor": 4
}
